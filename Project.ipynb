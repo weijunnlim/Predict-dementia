{
 "cells": [
  {
   "cell_type": "markdown",
   "metadata": {},
   "source": [
    "### This is the dataset link https://www.kaggle.com/datasets/fatemehmehrparvar/dementia/data"
   ]
  },
  {
   "cell_type": "code",
   "execution_count": 180,
   "metadata": {},
   "outputs": [],
   "source": [
    "#import stuffs\n",
    "import numpy as np\n",
    "import pandas as pd\n",
    "import seaborn as sns\n",
    "import matplotlib.pyplot as plt"
   ]
  },
  {
   "cell_type": "code",
   "execution_count": 181,
   "metadata": {},
   "outputs": [
    {
     "data": {
      "text/html": [
       "<div>\n",
       "<style scoped>\n",
       "    .dataframe tbody tr th:only-of-type {\n",
       "        vertical-align: middle;\n",
       "    }\n",
       "\n",
       "    .dataframe tbody tr th {\n",
       "        vertical-align: top;\n",
       "    }\n",
       "\n",
       "    .dataframe thead th {\n",
       "        text-align: right;\n",
       "    }\n",
       "</style>\n",
       "<table border=\"1\" class=\"dataframe\">\n",
       "  <thead>\n",
       "    <tr style=\"text-align: right;\">\n",
       "      <th></th>\n",
       "      <th>ID</th>\n",
       "      <th>age</th>\n",
       "      <th>gender</th>\n",
       "      <th>dementia</th>\n",
       "      <th>dementia_all</th>\n",
       "      <th>educationyears</th>\n",
       "      <th>EF</th>\n",
       "      <th>PS</th>\n",
       "      <th>Global</th>\n",
       "      <th>diabetes</th>\n",
       "      <th>...</th>\n",
       "      <th>hypercholesterolemia</th>\n",
       "      <th>lacunes_num</th>\n",
       "      <th>fazekas_cat</th>\n",
       "      <th>study</th>\n",
       "      <th>study1</th>\n",
       "      <th>SVD Simple Score</th>\n",
       "      <th>SVD Amended Score</th>\n",
       "      <th>Fazekas</th>\n",
       "      <th>lac_count</th>\n",
       "      <th>CMB_count</th>\n",
       "    </tr>\n",
       "  </thead>\n",
       "  <tbody>\n",
       "    <tr>\n",
       "      <th>0</th>\n",
       "      <td>1</td>\n",
       "      <td>52.67</td>\n",
       "      <td>male</td>\n",
       "      <td>0.0</td>\n",
       "      <td>0</td>\n",
       "      <td>11.0</td>\n",
       "      <td>-2.403333</td>\n",
       "      <td>-1.290000</td>\n",
       "      <td>-1.287000</td>\n",
       "      <td>0</td>\n",
       "      <td>...</td>\n",
       "      <td>Yes</td>\n",
       "      <td>more-than-zero</td>\n",
       "      <td>2 to 3</td>\n",
       "      <td>scans</td>\n",
       "      <td>scans</td>\n",
       "      <td>3.0</td>\n",
       "      <td>7.0</td>\n",
       "      <td>3</td>\n",
       "      <td>&gt;5</td>\n",
       "      <td>&gt;=1</td>\n",
       "    </tr>\n",
       "    <tr>\n",
       "      <th>1</th>\n",
       "      <td>10</td>\n",
       "      <td>64.58</td>\n",
       "      <td>male</td>\n",
       "      <td>0.0</td>\n",
       "      <td>0</td>\n",
       "      <td>10.0</td>\n",
       "      <td>1.280000</td>\n",
       "      <td>0.360000</td>\n",
       "      <td>0.744000</td>\n",
       "      <td>0</td>\n",
       "      <td>...</td>\n",
       "      <td>Yes</td>\n",
       "      <td>more-than-zero</td>\n",
       "      <td>0 to 1</td>\n",
       "      <td>scans</td>\n",
       "      <td>scans</td>\n",
       "      <td>2.0</td>\n",
       "      <td>3.0</td>\n",
       "      <td>1</td>\n",
       "      <td>1 to 2</td>\n",
       "      <td>&gt;=1</td>\n",
       "    </tr>\n",
       "    <tr>\n",
       "      <th>2</th>\n",
       "      <td>100</td>\n",
       "      <td>74.92</td>\n",
       "      <td>male</td>\n",
       "      <td>0.0</td>\n",
       "      <td>0</td>\n",
       "      <td>8.0</td>\n",
       "      <td>-1.440000</td>\n",
       "      <td>-1.520000</td>\n",
       "      <td>-0.922000</td>\n",
       "      <td>0</td>\n",
       "      <td>...</td>\n",
       "      <td>Yes</td>\n",
       "      <td>more-than-zero</td>\n",
       "      <td>0 to 1</td>\n",
       "      <td>scans</td>\n",
       "      <td>scans</td>\n",
       "      <td>1.0</td>\n",
       "      <td>2.0</td>\n",
       "      <td>1</td>\n",
       "      <td>1 to 2</td>\n",
       "      <td>0</td>\n",
       "    </tr>\n",
       "    <tr>\n",
       "      <th>3</th>\n",
       "      <td>101</td>\n",
       "      <td>74.83</td>\n",
       "      <td>male</td>\n",
       "      <td>1.0</td>\n",
       "      <td>1</td>\n",
       "      <td>9.0</td>\n",
       "      <td>NaN</td>\n",
       "      <td>-2.136271</td>\n",
       "      <td>-1.301102</td>\n",
       "      <td>0</td>\n",
       "      <td>...</td>\n",
       "      <td>Yes</td>\n",
       "      <td>more-than-zero</td>\n",
       "      <td>2 to 3</td>\n",
       "      <td>scans</td>\n",
       "      <td>scans</td>\n",
       "      <td>2.0</td>\n",
       "      <td>4.0</td>\n",
       "      <td>2</td>\n",
       "      <td>3 to 5</td>\n",
       "      <td>0</td>\n",
       "    </tr>\n",
       "    <tr>\n",
       "      <th>4</th>\n",
       "      <td>102</td>\n",
       "      <td>79.25</td>\n",
       "      <td>male</td>\n",
       "      <td>0.0</td>\n",
       "      <td>0</td>\n",
       "      <td>10.0</td>\n",
       "      <td>-0.920000</td>\n",
       "      <td>-1.493333</td>\n",
       "      <td>-0.924000</td>\n",
       "      <td>0</td>\n",
       "      <td>...</td>\n",
       "      <td>Yes</td>\n",
       "      <td>more-than-zero</td>\n",
       "      <td>2 to 3</td>\n",
       "      <td>scans</td>\n",
       "      <td>scans</td>\n",
       "      <td>2.0</td>\n",
       "      <td>3.0</td>\n",
       "      <td>2</td>\n",
       "      <td>1 to 2</td>\n",
       "      <td>0</td>\n",
       "    </tr>\n",
       "  </tbody>\n",
       "</table>\n",
       "<p>5 rows × 22 columns</p>\n",
       "</div>"
      ],
      "text/plain": [
       "    ID    age gender  dementia  dementia_all  educationyears        EF  \\\n",
       "0    1  52.67   male       0.0             0            11.0 -2.403333   \n",
       "1   10  64.58   male       0.0             0            10.0  1.280000   \n",
       "2  100  74.92   male       0.0             0             8.0 -1.440000   \n",
       "3  101  74.83   male       1.0             1             9.0       NaN   \n",
       "4  102  79.25   male       0.0             0            10.0 -0.920000   \n",
       "\n",
       "         PS    Global  diabetes  ... hypercholesterolemia     lacunes_num  \\\n",
       "0 -1.290000 -1.287000         0  ...                  Yes  more-than-zero   \n",
       "1  0.360000  0.744000         0  ...                  Yes  more-than-zero   \n",
       "2 -1.520000 -0.922000         0  ...                  Yes  more-than-zero   \n",
       "3 -2.136271 -1.301102         0  ...                  Yes  more-than-zero   \n",
       "4 -1.493333 -0.924000         0  ...                  Yes  more-than-zero   \n",
       "\n",
       "  fazekas_cat  study study1 SVD Simple Score SVD Amended Score  Fazekas  \\\n",
       "0      2 to 3  scans  scans              3.0               7.0        3   \n",
       "1      0 to 1  scans  scans              2.0               3.0        1   \n",
       "2      0 to 1  scans  scans              1.0               2.0        1   \n",
       "3      2 to 3  scans  scans              2.0               4.0        2   \n",
       "4      2 to 3  scans  scans              2.0               3.0        2   \n",
       "\n",
       "   lac_count  CMB_count  \n",
       "0         >5        >=1  \n",
       "1     1 to 2        >=1  \n",
       "2     1 to 2          0  \n",
       "3     3 to 5          0  \n",
       "4     1 to 2          0  \n",
       "\n",
       "[5 rows x 22 columns]"
      ]
     },
     "execution_count": 181,
     "metadata": {},
     "output_type": "execute_result"
    }
   ],
   "source": [
    "#my dementia dataset see if it works\n",
    "dataset = pd.read_csv('C:/Users/tp-limwj/Downloads/dementia.csv')\n",
    "dataset.head()"
   ]
  },
  {
   "cell_type": "code",
   "execution_count": 182,
   "metadata": {},
   "outputs": [
    {
     "name": "stdout",
     "output_type": "stream",
     "text": [
      "<class 'pandas.core.frame.DataFrame'>\n",
      "RangeIndex: 1842 entries, 0 to 1841\n",
      "Data columns (total 22 columns):\n",
      " #   Column                Non-Null Count  Dtype  \n",
      "---  ------                --------------  -----  \n",
      " 0   ID                    1842 non-null   int64  \n",
      " 1   age                   1842 non-null   float64\n",
      " 2   gender                1842 non-null   object \n",
      " 3   dementia              1808 non-null   float64\n",
      " 4   dementia_all          1842 non-null   int64  \n",
      " 5   educationyears        1842 non-null   float64\n",
      " 6   EF                    1634 non-null   float64\n",
      " 7   PS                    1574 non-null   float64\n",
      " 8   Global                1534 non-null   float64\n",
      " 9   diabetes              1842 non-null   int64  \n",
      " 10  smoking               1831 non-null   object \n",
      " 11  hypertension          1842 non-null   object \n",
      " 12  hypercholesterolemia  1842 non-null   object \n",
      " 13  lacunes_num           1842 non-null   object \n",
      " 14  fazekas_cat           1842 non-null   object \n",
      " 15  study                 1842 non-null   object \n",
      " 16  study1                1842 non-null   object \n",
      " 17  SVD Simple Score      1165 non-null   float64\n",
      " 18  SVD Amended Score     1165 non-null   float64\n",
      " 19  Fazekas               1842 non-null   int64  \n",
      " 20  lac_count             1842 non-null   object \n",
      " 21  CMB_count             1842 non-null   object \n",
      "dtypes: float64(8), int64(4), object(10)\n",
      "memory usage: 316.7+ KB\n"
     ]
    }
   ],
   "source": [
    "#Data types of each variable\n",
    "dataset.info()"
   ]
  },
  {
   "cell_type": "code",
   "execution_count": 183,
   "metadata": {},
   "outputs": [
    {
     "data": {
      "text/html": [
       "<div>\n",
       "<style scoped>\n",
       "    .dataframe tbody tr th:only-of-type {\n",
       "        vertical-align: middle;\n",
       "    }\n",
       "\n",
       "    .dataframe tbody tr th {\n",
       "        vertical-align: top;\n",
       "    }\n",
       "\n",
       "    .dataframe thead th {\n",
       "        text-align: right;\n",
       "    }\n",
       "</style>\n",
       "<table border=\"1\" class=\"dataframe\">\n",
       "  <thead>\n",
       "    <tr style=\"text-align: right;\">\n",
       "      <th></th>\n",
       "      <th>ID</th>\n",
       "      <th>age</th>\n",
       "      <th>gender</th>\n",
       "      <th>dementia_all</th>\n",
       "      <th>educationyears</th>\n",
       "      <th>EF</th>\n",
       "      <th>PS</th>\n",
       "      <th>Global</th>\n",
       "      <th>diabetes</th>\n",
       "      <th>smoking</th>\n",
       "      <th>hypertension</th>\n",
       "      <th>hypercholesterolemia</th>\n",
       "      <th>SVD Simple Score</th>\n",
       "      <th>SVD Amended Score</th>\n",
       "      <th>Fazekas</th>\n",
       "      <th>lac_count</th>\n",
       "      <th>CMB_count</th>\n",
       "    </tr>\n",
       "  </thead>\n",
       "  <tbody>\n",
       "    <tr>\n",
       "      <th>0</th>\n",
       "      <td>1</td>\n",
       "      <td>52.67</td>\n",
       "      <td>male</td>\n",
       "      <td>0</td>\n",
       "      <td>11.0</td>\n",
       "      <td>-2.403333</td>\n",
       "      <td>-1.290000</td>\n",
       "      <td>-1.287000</td>\n",
       "      <td>0</td>\n",
       "      <td>current-smoker</td>\n",
       "      <td>Yes</td>\n",
       "      <td>Yes</td>\n",
       "      <td>3.0</td>\n",
       "      <td>7.0</td>\n",
       "      <td>3</td>\n",
       "      <td>&gt;5</td>\n",
       "      <td>&gt;=1</td>\n",
       "    </tr>\n",
       "    <tr>\n",
       "      <th>1</th>\n",
       "      <td>10</td>\n",
       "      <td>64.58</td>\n",
       "      <td>male</td>\n",
       "      <td>0</td>\n",
       "      <td>10.0</td>\n",
       "      <td>1.280000</td>\n",
       "      <td>0.360000</td>\n",
       "      <td>0.744000</td>\n",
       "      <td>0</td>\n",
       "      <td>ex-smoker</td>\n",
       "      <td>Yes</td>\n",
       "      <td>Yes</td>\n",
       "      <td>2.0</td>\n",
       "      <td>3.0</td>\n",
       "      <td>1</td>\n",
       "      <td>1 to 2</td>\n",
       "      <td>&gt;=1</td>\n",
       "    </tr>\n",
       "    <tr>\n",
       "      <th>2</th>\n",
       "      <td>100</td>\n",
       "      <td>74.92</td>\n",
       "      <td>male</td>\n",
       "      <td>0</td>\n",
       "      <td>8.0</td>\n",
       "      <td>-1.440000</td>\n",
       "      <td>-1.520000</td>\n",
       "      <td>-0.922000</td>\n",
       "      <td>0</td>\n",
       "      <td>never-smoker</td>\n",
       "      <td>Yes</td>\n",
       "      <td>Yes</td>\n",
       "      <td>1.0</td>\n",
       "      <td>2.0</td>\n",
       "      <td>1</td>\n",
       "      <td>1 to 2</td>\n",
       "      <td>0</td>\n",
       "    </tr>\n",
       "    <tr>\n",
       "      <th>3</th>\n",
       "      <td>101</td>\n",
       "      <td>74.83</td>\n",
       "      <td>male</td>\n",
       "      <td>1</td>\n",
       "      <td>9.0</td>\n",
       "      <td>NaN</td>\n",
       "      <td>-2.136271</td>\n",
       "      <td>-1.301102</td>\n",
       "      <td>0</td>\n",
       "      <td>current-smoker</td>\n",
       "      <td>Yes</td>\n",
       "      <td>Yes</td>\n",
       "      <td>2.0</td>\n",
       "      <td>4.0</td>\n",
       "      <td>2</td>\n",
       "      <td>3 to 5</td>\n",
       "      <td>0</td>\n",
       "    </tr>\n",
       "    <tr>\n",
       "      <th>4</th>\n",
       "      <td>102</td>\n",
       "      <td>79.25</td>\n",
       "      <td>male</td>\n",
       "      <td>0</td>\n",
       "      <td>10.0</td>\n",
       "      <td>-0.920000</td>\n",
       "      <td>-1.493333</td>\n",
       "      <td>-0.924000</td>\n",
       "      <td>0</td>\n",
       "      <td>ex-smoker</td>\n",
       "      <td>Yes</td>\n",
       "      <td>Yes</td>\n",
       "      <td>2.0</td>\n",
       "      <td>3.0</td>\n",
       "      <td>2</td>\n",
       "      <td>1 to 2</td>\n",
       "      <td>0</td>\n",
       "    </tr>\n",
       "  </tbody>\n",
       "</table>\n",
       "</div>"
      ],
      "text/plain": [
       "    ID    age gender  dementia_all  educationyears        EF        PS  \\\n",
       "0    1  52.67   male             0            11.0 -2.403333 -1.290000   \n",
       "1   10  64.58   male             0            10.0  1.280000  0.360000   \n",
       "2  100  74.92   male             0             8.0 -1.440000 -1.520000   \n",
       "3  101  74.83   male             1             9.0       NaN -2.136271   \n",
       "4  102  79.25   male             0            10.0 -0.920000 -1.493333   \n",
       "\n",
       "     Global  diabetes         smoking hypertension hypercholesterolemia  \\\n",
       "0 -1.287000         0  current-smoker          Yes                  Yes   \n",
       "1  0.744000         0       ex-smoker          Yes                  Yes   \n",
       "2 -0.922000         0    never-smoker          Yes                  Yes   \n",
       "3 -1.301102         0  current-smoker          Yes                  Yes   \n",
       "4 -0.924000         0       ex-smoker          Yes                  Yes   \n",
       "\n",
       "   SVD Simple Score  SVD Amended Score  Fazekas lac_count CMB_count  \n",
       "0               3.0                7.0        3        >5       >=1  \n",
       "1               2.0                3.0        1    1 to 2       >=1  \n",
       "2               1.0                2.0        1    1 to 2         0  \n",
       "3               2.0                4.0        2    3 to 5         0  \n",
       "4               2.0                3.0        2    1 to 2         0  "
      ]
     },
     "execution_count": 183,
     "metadata": {},
     "output_type": "execute_result"
    }
   ],
   "source": [
    "#delete useless columns that idk like dementia, lacunes_num(cus alr in lac_count), study, study1 and fazekas_cat\n",
    "dataset_clean = dataset.copy()\n",
    "columns_to_drop = ['dementia', 'lacunes_num', 'study', 'study1', 'fazekas_cat']\n",
    "dataset_clean.drop(columns = columns_to_drop, axis =1, inplace=True)\n",
    "dataset_clean.head()"
   ]
  },
  {
   "cell_type": "code",
   "execution_count": 184,
   "metadata": {},
   "outputs": [
    {
     "name": "stdout",
     "output_type": "stream",
     "text": [
      "# of Rows, # of Columns:  (1842, 16)\n",
      "\n",
      "Column Name           # of Null Values\n",
      "\n",
      "ID                        0\n",
      "age                       0\n",
      "gender                    0\n",
      "dementia_all              0\n",
      "educationyears            0\n",
      "EF                      208\n",
      "PS                      268\n",
      "Global                  308\n",
      "diabetes                  0\n",
      "smoking                  11\n",
      "hypertension              0\n",
      "hypercholesterolemia      0\n",
      "SVD Simple Score        677\n",
      "SVD Amended Score       677\n",
      "Fazekas                   0\n",
      "lac_count                 0\n",
      "dtype: int64\n"
     ]
    }
   ],
   "source": [
    "dataset2 = dataset_clean.iloc[:, :-1]\n",
    "print(\"# of Rows, # of Columns: \",dataset2.shape)\n",
    "print(\"\\nColumn Name           # of Null Values\\n\")\n",
    "print(dataset2.isnull().sum())"
   ]
  },
  {
   "cell_type": "code",
   "execution_count": 185,
   "metadata": {},
   "outputs": [
    {
     "name": "stdout",
     "output_type": "stream",
     "text": [
      "# of Rows, # of Columns:  (1842, 16)\n",
      "\n",
      "Column Name              % Null Values\n",
      "\n",
      "ID                       0.000000\n",
      "age                      0.000000\n",
      "gender                   0.000000\n",
      "dementia_all             0.000000\n",
      "educationyears           0.000000\n",
      "EF                      11.292074\n",
      "PS                      14.549403\n",
      "Global                  16.720955\n",
      "diabetes                 0.000000\n",
      "smoking                  0.597177\n",
      "hypertension             0.000000\n",
      "hypercholesterolemia     0.000000\n",
      "SVD Simple Score        36.753529\n",
      "SVD Amended Score       36.753529\n",
      "Fazekas                  0.000000\n",
      "lac_count                0.000000\n",
      "dtype: float64\n"
     ]
    }
   ],
   "source": [
    "print(\"# of Rows, # of Columns: \",dataset2.shape)\n",
    "print(\"\\nColumn Name              % Null Values\\n\")\n",
    "print(dataset2.isnull().sum()/1842*100) #1842 is the total number of data"
   ]
  },
  {
   "cell_type": "code",
   "execution_count": 186,
   "metadata": {},
   "outputs": [
    {
     "data": {
      "text/html": [
       "<div>\n",
       "<style scoped>\n",
       "    .dataframe tbody tr th:only-of-type {\n",
       "        vertical-align: middle;\n",
       "    }\n",
       "\n",
       "    .dataframe tbody tr th {\n",
       "        vertical-align: top;\n",
       "    }\n",
       "\n",
       "    .dataframe thead th {\n",
       "        text-align: right;\n",
       "    }\n",
       "</style>\n",
       "<table border=\"1\" class=\"dataframe\">\n",
       "  <thead>\n",
       "    <tr style=\"text-align: right;\">\n",
       "      <th></th>\n",
       "      <th>SVD Simple Score</th>\n",
       "      <th>SVD Amended Score</th>\n",
       "      <th>dementia_all</th>\n",
       "    </tr>\n",
       "  </thead>\n",
       "  <tbody>\n",
       "    <tr>\n",
       "      <th>0</th>\n",
       "      <td>3.0</td>\n",
       "      <td>7.0</td>\n",
       "      <td>0</td>\n",
       "    </tr>\n",
       "    <tr>\n",
       "      <th>1</th>\n",
       "      <td>2.0</td>\n",
       "      <td>3.0</td>\n",
       "      <td>0</td>\n",
       "    </tr>\n",
       "    <tr>\n",
       "      <th>2</th>\n",
       "      <td>1.0</td>\n",
       "      <td>2.0</td>\n",
       "      <td>0</td>\n",
       "    </tr>\n",
       "    <tr>\n",
       "      <th>3</th>\n",
       "      <td>2.0</td>\n",
       "      <td>4.0</td>\n",
       "      <td>1</td>\n",
       "    </tr>\n",
       "    <tr>\n",
       "      <th>4</th>\n",
       "      <td>2.0</td>\n",
       "      <td>3.0</td>\n",
       "      <td>0</td>\n",
       "    </tr>\n",
       "    <tr>\n",
       "      <th>...</th>\n",
       "      <td>...</td>\n",
       "      <td>...</td>\n",
       "      <td>...</td>\n",
       "    </tr>\n",
       "    <tr>\n",
       "      <th>1837</th>\n",
       "      <td>NaN</td>\n",
       "      <td>NaN</td>\n",
       "      <td>0</td>\n",
       "    </tr>\n",
       "    <tr>\n",
       "      <th>1838</th>\n",
       "      <td>NaN</td>\n",
       "      <td>NaN</td>\n",
       "      <td>0</td>\n",
       "    </tr>\n",
       "    <tr>\n",
       "      <th>1839</th>\n",
       "      <td>0.0</td>\n",
       "      <td>0.0</td>\n",
       "      <td>0</td>\n",
       "    </tr>\n",
       "    <tr>\n",
       "      <th>1840</th>\n",
       "      <td>0.0</td>\n",
       "      <td>0.0</td>\n",
       "      <td>0</td>\n",
       "    </tr>\n",
       "    <tr>\n",
       "      <th>1841</th>\n",
       "      <td>NaN</td>\n",
       "      <td>NaN</td>\n",
       "      <td>0</td>\n",
       "    </tr>\n",
       "  </tbody>\n",
       "</table>\n",
       "<p>1842 rows × 3 columns</p>\n",
       "</div>"
      ],
      "text/plain": [
       "      SVD Simple Score  SVD Amended Score  dementia_all\n",
       "0                  3.0                7.0             0\n",
       "1                  2.0                3.0             0\n",
       "2                  1.0                2.0             0\n",
       "3                  2.0                4.0             1\n",
       "4                  2.0                3.0             0\n",
       "...                ...                ...           ...\n",
       "1837               NaN                NaN             0\n",
       "1838               NaN                NaN             0\n",
       "1839               0.0                0.0             0\n",
       "1840               0.0                0.0             0\n",
       "1841               NaN                NaN             0\n",
       "\n",
       "[1842 rows x 3 columns]"
      ]
     },
     "metadata": {},
     "output_type": "display_data"
    }
   ],
   "source": [
    "#Extraction of possible data leakage variables such as SVD SIMPLe score and amended score\n",
    "dataset_leakage = pd.DataFrame(dataset_clean[['SVD Simple Score', 'SVD Amended Score', 'dementia_all']])\n",
    "display(dataset_leakage)"
   ]
  },
  {
   "cell_type": "code",
   "execution_count": 187,
   "metadata": {},
   "outputs": [
    {
     "data": {
      "text/html": [
       "<div>\n",
       "<style scoped>\n",
       "    .dataframe tbody tr th:only-of-type {\n",
       "        vertical-align: middle;\n",
       "    }\n",
       "\n",
       "    .dataframe tbody tr th {\n",
       "        vertical-align: top;\n",
       "    }\n",
       "\n",
       "    .dataframe thead th {\n",
       "        text-align: right;\n",
       "    }\n",
       "</style>\n",
       "<table border=\"1\" class=\"dataframe\">\n",
       "  <thead>\n",
       "    <tr style=\"text-align: right;\">\n",
       "      <th></th>\n",
       "      <th>SVD Simple Score</th>\n",
       "      <th>SVD Amended Score</th>\n",
       "      <th>dementia_all</th>\n",
       "    </tr>\n",
       "  </thead>\n",
       "  <tbody>\n",
       "    <tr>\n",
       "      <th>SVD Simple Score</th>\n",
       "      <td>1.000000</td>\n",
       "      <td>0.901032</td>\n",
       "      <td>0.233746</td>\n",
       "    </tr>\n",
       "    <tr>\n",
       "      <th>SVD Amended Score</th>\n",
       "      <td>0.901032</td>\n",
       "      <td>1.000000</td>\n",
       "      <td>0.286705</td>\n",
       "    </tr>\n",
       "    <tr>\n",
       "      <th>dementia_all</th>\n",
       "      <td>0.233746</td>\n",
       "      <td>0.286705</td>\n",
       "      <td>1.000000</td>\n",
       "    </tr>\n",
       "  </tbody>\n",
       "</table>\n",
       "</div>"
      ],
      "text/plain": [
       "                   SVD Simple Score  SVD Amended Score  dementia_all\n",
       "SVD Simple Score           1.000000           0.901032      0.233746\n",
       "SVD Amended Score          0.901032           1.000000      0.286705\n",
       "dementia_all               0.233746           0.286705      1.000000"
      ]
     },
     "execution_count": 187,
     "metadata": {},
     "output_type": "execute_result"
    }
   ],
   "source": [
    "dataset_leakage.corr()"
   ]
  },
  {
   "cell_type": "markdown",
   "metadata": {},
   "source": [
    "#### Thus 0.23/0.28, not much correlation to prob of dementia, so no data leakage"
   ]
  },
  {
   "cell_type": "markdown",
   "metadata": {},
   "source": [
    "#### Data Cleaning"
   ]
  },
  {
   "cell_type": "code",
   "execution_count": 188,
   "metadata": {},
   "outputs": [],
   "source": [
    "# fill up empty SVD simple and amended score with mean of data\n",
    "from sklearn.impute import SimpleImputer\n",
    "imputer = SimpleImputer(strategy = 'mean')\n",
    "columns_to_impute = ['EF', 'PS', 'Global','SVD Simple Score', 'SVD Amended Score']\n",
    "dataset_clean_mean = dataset_clean.copy()\n",
    "dataset_clean_mean[columns_to_impute] = imputer.fit_transform(dataset_clean_mean[columns_to_impute])\n",
    "\n",
    "#median\n",
    "dataset_clean_median = dataset_clean.copy()\n",
    "imputer = SimpleImputer(strategy = 'median')\n",
    "dataset_clean_median[columns_to_impute] = imputer.fit_transform(dataset_clean_median[columns_to_impute])\n",
    "\n",
    "#most_frequent\n",
    "dataset_clean_mostfreq = dataset_clean.copy()\n",
    "imputer = SimpleImputer(strategy = 'most_frequent')\n",
    "dataset_clean_mostfreq[columns_to_impute] = imputer.fit_transform(dataset_clean_mostfreq[columns_to_impute])"
   ]
  },
  {
   "cell_type": "code",
   "execution_count": 189,
   "metadata": {},
   "outputs": [],
   "source": [
    "dataset_encoded_mean = pd.get_dummies(dataset_clean_mean, drop_first=True) #using one-hot encoding, remove the first level to reduce no of columns\n",
    "dataset_encoded_mean.describe()\n",
    "\n",
    "dataset_encoded_median = pd.get_dummies(dataset_clean_median, drop_first=True)\n",
    "dataset_encoded_mostfreq = pd.get_dummies(dataset_clean_mostfreq, drop_first=True)"
   ]
  },
  {
   "cell_type": "markdown",
   "metadata": {},
   "source": [
    "##### Testing XGboost for mean"
   ]
  },
  {
   "cell_type": "code",
   "execution_count": 190,
   "metadata": {},
   "outputs": [
    {
     "name": "stdout",
     "output_type": "stream",
     "text": [
      "Accuracy: 0.9351351351351351\n",
      "Classification Report:\n",
      "               precision    recall  f1-score   support\n",
      "\n",
      "           0       0.94      1.00      0.97       173\n",
      "           1       0.00      0.00      0.00        12\n",
      "\n",
      "    accuracy                           0.94       185\n",
      "   macro avg       0.47      0.50      0.48       185\n",
      "weighted avg       0.87      0.94      0.90       185\n",
      "\n",
      "ROC-AUC Score: 0.9022157996146436\n"
     ]
    },
    {
     "name": "stderr",
     "output_type": "stream",
     "text": [
      "C:\\Users\\tp-limwj\\AppData\\Local\\Packages\\PythonSoftwareFoundation.Python.3.11_qbz5n2kfra8p0\\LocalCache\\local-packages\\Python311\\site-packages\\sklearn\\metrics\\_classification.py:1509: UndefinedMetricWarning: Precision is ill-defined and being set to 0.0 in labels with no predicted samples. Use `zero_division` parameter to control this behavior.\n",
      "  _warn_prf(average, modifier, f\"{metric.capitalize()} is\", len(result))\n",
      "C:\\Users\\tp-limwj\\AppData\\Local\\Packages\\PythonSoftwareFoundation.Python.3.11_qbz5n2kfra8p0\\LocalCache\\local-packages\\Python311\\site-packages\\sklearn\\metrics\\_classification.py:1509: UndefinedMetricWarning: Precision is ill-defined and being set to 0.0 in labels with no predicted samples. Use `zero_division` parameter to control this behavior.\n",
      "  _warn_prf(average, modifier, f\"{metric.capitalize()} is\", len(result))\n",
      "C:\\Users\\tp-limwj\\AppData\\Local\\Packages\\PythonSoftwareFoundation.Python.3.11_qbz5n2kfra8p0\\LocalCache\\local-packages\\Python311\\site-packages\\sklearn\\metrics\\_classification.py:1509: UndefinedMetricWarning: Precision is ill-defined and being set to 0.0 in labels with no predicted samples. Use `zero_division` parameter to control this behavior.\n",
      "  _warn_prf(average, modifier, f\"{metric.capitalize()} is\", len(result))\n"
     ]
    },
    {
     "data": {
      "image/png": "[encoded data removed]",
      "text/plain": [
       "<Figure size 640x480 with 1 Axes>"
      ]
     },
     "metadata": {},
     "output_type": "display_data"
    },
    {
     "name": "stdout",
     "output_type": "stream",
     "text": [
      "[[173   0]\n",
      " [ 12   0]]\n"
     ]
    }
   ],
   "source": [
    "from sklearn.model_selection import train_test_split\n",
    "from xgboost import XGBClassifier #regressor used for continuous variables\n",
    "from sklearn.metrics import accuracy_score, classification_report, roc_auc_score, confusion_matrix\n",
    "\n",
    "X = dataset_encoded_mean.drop(['dementia_all', 'ID'], axis=1) #all features\n",
    "y = dataset_encoded_mean['dementia_all'] #target\n",
    "\n",
    "X_train, X_test_val, y_train, y_test_val = train_test_split(X, y, test_size=0.2, random_state=123, stratify = y) #split into 118\n",
    "X_test, X_val, y_test, y_val = train_test_split(X_test_val, y_test_val, test_size = 0.5, random_state= 123, stratify = y_test_val) #50% of 20% is 10%\n",
    "\n",
    "model = XGBClassifier(n_estimators=100, max_depth=5 , colsample_bytree=0.8, learning_rate=0.05, random_state=123) #colsample_bytree is randomly selecting a fraction of features\n",
    "model.fit(X_train, y_train)\n",
    "\n",
    "# Evaluating based on validation set\n",
    "y_pred_val = model.predict(X_val)\n",
    "y_pred_proba_val = model.predict_proba(X_val)[:, 1]\n",
    "\n",
    "# Evaluate the model based on validation set\n",
    "accuracy = accuracy_score(y_val, y_pred_val)\n",
    "print(f\"Accuracy: {accuracy}\")\n",
    "print(\"Classification Report:\\n\", classification_report(y_val, y_pred_val)) #recall is ratio of correctly predicted positives to all observations\n",
    "print(\"ROC-AUC Score:\", roc_auc_score(y_val, y_pred_proba_val)) #trade off between true positive and false positive\n",
    "#i used the actual y value which is 0 or 1 instead of a probability thats being predicted, so now this using proba, its more accurate\n",
    "# Feature importance\n",
    "import xgboost as xgb\n",
    "xgb.plot_importance(model) #fscore is how many times a feature is used in all trees\n",
    "plt.show()\n",
    "\n",
    "y_pred_matrix = (y_pred_proba_val > 0.5).astype(int)\n",
    "conf_matrix = confusion_matrix(y_val, y_pred_matrix)\n",
    "print(conf_matrix)"
   ]
  },
  {
   "cell_type": "markdown",
   "metadata": {},
   "source": [
    "##### Grid Search for optimal parameters for xgbclassifier"
   ]
  },
  {
   "cell_type": "code",
   "execution_count": 191,
   "metadata": {},
   "outputs": [
    {
     "name": "stdout",
     "output_type": "stream",
     "text": [
      "Best parameters: {'colsample_bytree': 0.7, 'max_depth': 3, 'n_estimators': 100, 'subsample': 1.0}\n",
      "Best ROC-AUC score from grid search: 0.8146304771590813\n"
     ]
    }
   ],
   "source": [
    "from sklearn.model_selection import GridSearchCV, StratifiedKFold\n",
    "\n",
    "param_grid = {\n",
    "    'n_estimators': [100, 200, 300],\n",
    "    'max_depth': [3, 5, 7],\n",
    "    'colsample_bytree': [0.3, 0.7, 0.8],\n",
    "    'subsample' : [0.5, 0.7, 1.0]\n",
    "}\n",
    "#Cross-validation strategy\n",
    "cv = StratifiedKFold(n_splits=5, shuffle=True, random_state=42)\n",
    "grid_search = GridSearchCV(estimator=model, param_grid=param_grid, scoring='roc_auc', n_jobs=-1, cv=cv) #n_jobs = -1 means use all processors\n",
    "grid_search.fit(X_train, y_train)\n",
    "\n",
    "#show best para and best score\n",
    "best_params = grid_search.best_params_\n",
    "best_score = grid_search.best_score_\n",
    "print(f\"Best parameters: {best_params}\")\n",
    "print(f\"Best ROC-AUC score from grid search: {best_score}\")"
   ]
  },
  {
   "cell_type": "code",
   "execution_count": 192,
   "metadata": {},
   "outputs": [
    {
     "name": "stdout",
     "output_type": "stream",
     "text": [
      "Accuracy: 0.9347826086956522\n",
      "Classification Report:\n",
      "               precision    recall  f1-score   support\n",
      "\n",
      "           0       0.94      0.99      0.97       173\n",
      "           1       0.00      0.00      0.00        11\n",
      "\n",
      "    accuracy                           0.93       184\n",
      "   macro avg       0.47      0.50      0.48       184\n",
      "weighted avg       0.88      0.93      0.91       184\n",
      "\n",
      "ROC-AUC Score: 0.8129269574356279\n"
     ]
    },
    {
     "data": {
      "image/png": "[encoded data removed]",
      "text/plain": [
       "<Figure size 640x480 with 1 Axes>"
      ]
     },
     "metadata": {},
     "output_type": "display_data"
    },
    {
     "name": "stdout",
     "output_type": "stream",
     "text": [
      "[[172   1]\n",
      " [ 11   0]]\n"
     ]
    }
   ],
   "source": [
    "#Train model with best para\n",
    "best_model = XGBClassifier(n_estimators=100, max_depth=3 , colsample_bytree=0.7, subsample = 1.0, random_state=123)\n",
    "best_model.fit(X_train, y_train)\n",
    "\n",
    "y_pred = best_model.predict(X_test)\n",
    "y_pred_proba = best_model.predict_proba(X_test)[:, 1]\n",
    "\n",
    "# Evaluate the model\n",
    "accuracy = accuracy_score(y_test, y_pred)\n",
    "roc_auc = roc_auc_score(y_test, y_pred_proba)\n",
    "classification_rep = classification_report(y_test, y_pred)\n",
    "\n",
    "print(f\"Accuracy: {accuracy}\")\n",
    "print(\"Classification Report:\\n\", classification_rep)\n",
    "print(f\"ROC-AUC Score: {roc_auc}\")\n",
    "\n",
    "# Feature importance\n",
    "xgb.plot_importance(best_model)\n",
    "plt.show()\n",
    "\n",
    "y_pred_matrix_val = (y_pred_proba > 0.5).astype(int)\n",
    "conf_matrix_val = confusion_matrix(y_test, y_pred_matrix_val)\n",
    "print(conf_matrix_val)"
   ]
  },
  {
   "cell_type": "markdown",
   "metadata": {},
   "source": [
    "##### XGBoost for median"
   ]
  },
  {
   "cell_type": "code",
   "execution_count": 193,
   "metadata": {},
   "outputs": [
    {
     "name": "stdout",
     "output_type": "stream",
     "text": [
      "Accuracy: 0.9351351351351351\n",
      "Classification Report:\n",
      "               precision    recall  f1-score   support\n",
      "\n",
      "           0       0.94      1.00      0.97       173\n",
      "           1       0.00      0.00      0.00        12\n",
      "\n",
      "    accuracy                           0.94       185\n",
      "   macro avg       0.47      0.50      0.48       185\n",
      "weighted avg       0.87      0.94      0.90       185\n",
      "\n",
      "ROC-AUC Score: 0.9022157996146435\n"
     ]
    },
    {
     "name": "stderr",
     "output_type": "stream",
     "text": [
      "C:\\Users\\tp-limwj\\AppData\\Local\\Packages\\PythonSoftwareFoundation.Python.3.11_qbz5n2kfra8p0\\LocalCache\\local-packages\\Python311\\site-packages\\sklearn\\metrics\\_classification.py:1509: UndefinedMetricWarning: Precision is ill-defined and being set to 0.0 in labels with no predicted samples. Use `zero_division` parameter to control this behavior.\n",
      "  _warn_prf(average, modifier, f\"{metric.capitalize()} is\", len(result))\n",
      "C:\\Users\\tp-limwj\\AppData\\Local\\Packages\\PythonSoftwareFoundation.Python.3.11_qbz5n2kfra8p0\\LocalCache\\local-packages\\Python311\\site-packages\\sklearn\\metrics\\_classification.py:1509: UndefinedMetricWarning: Precision is ill-defined and being set to 0.0 in labels with no predicted samples. Use `zero_division` parameter to control this behavior.\n",
      "  _warn_prf(average, modifier, f\"{metric.capitalize()} is\", len(result))\n",
      "C:\\Users\\tp-limwj\\AppData\\Local\\Packages\\PythonSoftwareFoundation.Python.3.11_qbz5n2kfra8p0\\LocalCache\\local-packages\\Python311\\site-packages\\sklearn\\metrics\\_classification.py:1509: UndefinedMetricWarning: Precision is ill-defined and being set to 0.0 in labels with no predicted samples. Use `zero_division` parameter to control this behavior.\n",
      "  _warn_prf(average, modifier, f\"{metric.capitalize()} is\", len(result))\n"
     ]
    },
    {
     "data": {
      "image/png": "[encoded data removed]",
      "text/plain": [
       "<Figure size 640x480 with 1 Axes>"
      ]
     },
     "metadata": {},
     "output_type": "display_data"
    },
    {
     "name": "stdout",
     "output_type": "stream",
     "text": [
      "[[173   0]\n",
      " [ 12   0]]\n"
     ]
    }
   ],
   "source": [
    "X = dataset_encoded_median.drop(['dementia_all', 'ID'], axis=1) #all features\n",
    "y = dataset_encoded_median['dementia_all'] #target\n",
    "\n",
    "X_train, X_test_val, y_train, y_test_val = train_test_split(X, y, test_size=0.2, random_state=123, stratify = y ) #split into 118\n",
    "X_test, X_val, y_test, y_val = train_test_split(X_test_val, y_test_val, test_size = 0.5, random_state= 123, stratify = y_test_val) #50% of 20% is 10%\n",
    "\n",
    "model.fit(X_train, y_train)\n",
    "# Evaluating based on validation set\n",
    "y_pred_val = model.predict(X_val)\n",
    "y_pred_proba_val = model.predict_proba(X_val)[:, 1]\n",
    "\n",
    "# Evaluating the model based on validation set\n",
    "accuracy = accuracy_score(y_val, y_pred_val)\n",
    "print(f\"Accuracy: {accuracy}\")\n",
    "print(\"Classification Report:\\n\", classification_report(y_val, y_pred_val))\n",
    "print(\"ROC-AUC Score:\", roc_auc_score(y_val, y_pred_proba_val)) \n",
    "\n",
    "# Feature importance\n",
    "import xgboost as xgb\n",
    "xgb.plot_importance(model) #fscore is how many times a feature is used in all trees\n",
    "plt.show()\n",
    "\n",
    "y_pred_matrix_val = (y_pred_proba_val > 0.5).astype(int)\n",
    "conf_matrix_val = confusion_matrix(y_val, y_pred_matrix_val)\n",
    "print(conf_matrix_val)"
   ]
  },
  {
   "cell_type": "markdown",
   "metadata": {},
   "source": [
    "##### XGBoost for most_freq"
   ]
  },
  {
   "cell_type": "code",
   "execution_count": 194,
   "metadata": {},
   "outputs": [
    {
     "name": "stdout",
     "output_type": "stream",
     "text": [
      "Accuracy: 0.9351351351351351\n",
      "Classification Report:\n",
      "               precision    recall  f1-score   support\n",
      "\n",
      "           0       0.94      1.00      0.97       173\n",
      "           1       0.00      0.00      0.00        12\n",
      "\n",
      "    accuracy                           0.94       185\n",
      "   macro avg       0.47      0.50      0.48       185\n",
      "weighted avg       0.87      0.94      0.90       185\n",
      "\n",
      "ROC-AUC Score: 0.894990366088632\n"
     ]
    },
    {
     "name": "stderr",
     "output_type": "stream",
     "text": [
      "C:\\Users\\tp-limwj\\AppData\\Local\\Packages\\PythonSoftwareFoundation.Python.3.11_qbz5n2kfra8p0\\LocalCache\\local-packages\\Python311\\site-packages\\sklearn\\metrics\\_classification.py:1509: UndefinedMetricWarning: Precision is ill-defined and being set to 0.0 in labels with no predicted samples. Use `zero_division` parameter to control this behavior.\n",
      "  _warn_prf(average, modifier, f\"{metric.capitalize()} is\", len(result))\n",
      "C:\\Users\\tp-limwj\\AppData\\Local\\Packages\\PythonSoftwareFoundation.Python.3.11_qbz5n2kfra8p0\\LocalCache\\local-packages\\Python311\\site-packages\\sklearn\\metrics\\_classification.py:1509: UndefinedMetricWarning: Precision is ill-defined and being set to 0.0 in labels with no predicted samples. Use `zero_division` parameter to control this behavior.\n",
      "  _warn_prf(average, modifier, f\"{metric.capitalize()} is\", len(result))\n",
      "C:\\Users\\tp-limwj\\AppData\\Local\\Packages\\PythonSoftwareFoundation.Python.3.11_qbz5n2kfra8p0\\LocalCache\\local-packages\\Python311\\site-packages\\sklearn\\metrics\\_classification.py:1509: UndefinedMetricWarning: Precision is ill-defined and being set to 0.0 in labels with no predicted samples. Use `zero_division` parameter to control this behavior.\n",
      "  _warn_prf(average, modifier, f\"{metric.capitalize()} is\", len(result))\n"
     ]
    },
    {
     "data": {
      "image/png": "[encoded data removed]",
      "text/plain": [
       "<Figure size 640x480 with 1 Axes>"
      ]
     },
     "metadata": {},
     "output_type": "display_data"
    },
    {
     "name": "stdout",
     "output_type": "stream",
     "text": [
      "[[173   0]\n",
      " [ 12   0]]\n"
     ]
    }
   ],
   "source": [
    "X = dataset_encoded_mostfreq.drop(['dementia_all', 'ID'], axis=1) #all features\n",
    "y = dataset_encoded_mostfreq['dementia_all'] #target\n",
    "\n",
    "X_train, X_test_val, y_train, y_test_val = train_test_split(X, y, test_size=0.2, random_state=123, stratify = y) #split into 118\n",
    "X_test, X_val, y_test, y_val = train_test_split(X_test_val, y_test_val, test_size = 0.5, random_state= 123, stratify = y_test_val) #50% of 20% is 10%\n",
    "\n",
    "model.fit(X_train, y_train)\n",
    "# Evaluating based on validation set\n",
    "y_pred_val = model.predict(X_val)\n",
    "y_pred_proba_val = model.predict_proba(X_val)[:, 1]\n",
    "\n",
    "# Evaluating the model based on validation set\n",
    "accuracy = accuracy_score(y_val, y_pred_val)\n",
    "print(f\"Accuracy: {accuracy}\")\n",
    "print(\"Classification Report:\\n\", classification_report(y_val, y_pred_val))\n",
    "print(\"ROC-AUC Score:\", roc_auc_score(y_val, y_pred_proba_val)) \n",
    "\n",
    "# Feature importance\n",
    "import xgboost as xgb\n",
    "xgb.plot_importance(model) #fscore is how many times a feature is used in all trees\n",
    "plt.show()\n",
    "\n",
    "y_pred_matrix_val = (y_pred_proba_val > 0.5).astype(int)\n",
    "conf_matrix_val = confusion_matrix(y_val, y_pred_matrix_val)\n",
    "print(conf_matrix_val)\n"
   ]
  },
  {
   "cell_type": "markdown",
   "metadata": {},
   "source": [
    "##### Using mutual Information to select the most relevant features to predict dementia"
   ]
  },
  {
   "cell_type": "code",
   "execution_count": 195,
   "metadata": {},
   "outputs": [
    {
     "data": {
      "text/html": [
       "<div>\n",
       "<style scoped>\n",
       "    .dataframe tbody tr th:only-of-type {\n",
       "        vertical-align: middle;\n",
       "    }\n",
       "\n",
       "    .dataframe tbody tr th {\n",
       "        vertical-align: top;\n",
       "    }\n",
       "\n",
       "    .dataframe thead th {\n",
       "        text-align: right;\n",
       "    }\n",
       "</style>\n",
       "<table border=\"1\" class=\"dataframe\">\n",
       "  <thead>\n",
       "    <tr style=\"text-align: right;\">\n",
       "      <th></th>\n",
       "      <th>feature</th>\n",
       "      <th>mi_score</th>\n",
       "    </tr>\n",
       "  </thead>\n",
       "  <tbody>\n",
       "    <tr>\n",
       "      <th>4</th>\n",
       "      <td>Global</td>\n",
       "      <td>0.033499</td>\n",
       "    </tr>\n",
       "    <tr>\n",
       "      <th>7</th>\n",
       "      <td>SVD Amended Score</td>\n",
       "      <td>0.032588</td>\n",
       "    </tr>\n",
       "    <tr>\n",
       "      <th>2</th>\n",
       "      <td>EF</td>\n",
       "      <td>0.030720</td>\n",
       "    </tr>\n",
       "    <tr>\n",
       "      <th>3</th>\n",
       "      <td>PS</td>\n",
       "      <td>0.030362</td>\n",
       "    </tr>\n",
       "    <tr>\n",
       "      <th>6</th>\n",
       "      <td>SVD Simple Score</td>\n",
       "      <td>0.025263</td>\n",
       "    </tr>\n",
       "    <tr>\n",
       "      <th>0</th>\n",
       "      <td>age</td>\n",
       "      <td>0.024256</td>\n",
       "    </tr>\n",
       "    <tr>\n",
       "      <th>17</th>\n",
       "      <td>CMB_count_&gt;=1</td>\n",
       "      <td>0.018254</td>\n",
       "    </tr>\n",
       "    <tr>\n",
       "      <th>1</th>\n",
       "      <td>educationyears</td>\n",
       "      <td>0.014159</td>\n",
       "    </tr>\n",
       "    <tr>\n",
       "      <th>8</th>\n",
       "      <td>Fazekas</td>\n",
       "      <td>0.012944</td>\n",
       "    </tr>\n",
       "    <tr>\n",
       "      <th>16</th>\n",
       "      <td>lac_count_Zero</td>\n",
       "      <td>0.010927</td>\n",
       "    </tr>\n",
       "    <tr>\n",
       "      <th>10</th>\n",
       "      <td>smoking_ex-smoker</td>\n",
       "      <td>0.007104</td>\n",
       "    </tr>\n",
       "    <tr>\n",
       "      <th>15</th>\n",
       "      <td>lac_count_&gt;5</td>\n",
       "      <td>0.005112</td>\n",
       "    </tr>\n",
       "    <tr>\n",
       "      <th>14</th>\n",
       "      <td>lac_count_3 to 5</td>\n",
       "      <td>0.004718</td>\n",
       "    </tr>\n",
       "    <tr>\n",
       "      <th>5</th>\n",
       "      <td>diabetes</td>\n",
       "      <td>0.000715</td>\n",
       "    </tr>\n",
       "    <tr>\n",
       "      <th>11</th>\n",
       "      <td>smoking_never-smoker</td>\n",
       "      <td>0.000126</td>\n",
       "    </tr>\n",
       "    <tr>\n",
       "      <th>12</th>\n",
       "      <td>hypertension_Yes</td>\n",
       "      <td>0.000000</td>\n",
       "    </tr>\n",
       "    <tr>\n",
       "      <th>13</th>\n",
       "      <td>hypercholesterolemia_Yes</td>\n",
       "      <td>0.000000</td>\n",
       "    </tr>\n",
       "    <tr>\n",
       "      <th>9</th>\n",
       "      <td>gender_male</td>\n",
       "      <td>0.000000</td>\n",
       "    </tr>\n",
       "  </tbody>\n",
       "</table>\n",
       "</div>"
      ],
      "text/plain": [
       "                     feature  mi_score\n",
       "4                     Global  0.033499\n",
       "7          SVD Amended Score  0.032588\n",
       "2                         EF  0.030720\n",
       "3                         PS  0.030362\n",
       "6           SVD Simple Score  0.025263\n",
       "0                        age  0.024256\n",
       "17             CMB_count_>=1  0.018254\n",
       "1             educationyears  0.014159\n",
       "8                    Fazekas  0.012944\n",
       "16            lac_count_Zero  0.010927\n",
       "10         smoking_ex-smoker  0.007104\n",
       "15              lac_count_>5  0.005112\n",
       "14          lac_count_3 to 5  0.004718\n",
       "5                   diabetes  0.000715\n",
       "11      smoking_never-smoker  0.000126\n",
       "12          hypertension_Yes  0.000000\n",
       "13  hypercholesterolemia_Yes  0.000000\n",
       "9                gender_male  0.000000"
      ]
     },
     "execution_count": 195,
     "metadata": {},
     "output_type": "execute_result"
    }
   ],
   "source": [
    "#X and y is using the most_freq dataset\n",
    "from sklearn.feature_selection import mutual_info_classif\n",
    "\n",
    "mi_scores = mutual_info_classif(X, y)\n",
    "mi_df = pd.DataFrame({'feature': X.columns, 'mi_score': mi_scores})\n",
    "mi_df_sorted = mi_df.sort_values(by='mi_score', ascending=False)\n",
    "mi_df_sorted.head(20) #print out the dataframe "
   ]
  },
  {
   "cell_type": "code",
   "execution_count": 196,
   "metadata": {},
   "outputs": [
    {
     "name": "stdout",
     "output_type": "stream",
     "text": [
      "0.86247591522158\n",
      "0.8933044315992292\n"
     ]
    }
   ],
   "source": [
    "top_features = mi_df_sorted.head(5)['feature'].tolist() #use the 5 top features\n",
    "\n",
    "X_train, X_test_val, y_train, y_test_val = train_test_split(X[top_features], y, test_size=0.2, random_state=123, stratify = y) #split into 118\n",
    "X_test, X_val, y_test, y_val = train_test_split(X_test_val, y_test_val, test_size = 0.5, random_state= 123, stratify = y_test_val) #50% of 20% is 10%\n",
    "model.fit(X_train, y_train)\n",
    "best_model.fit(X_train, y_train)\n",
    "\n",
    "y_pred_prob = model.predict_proba(X_val)[:, 1]\n",
    "best_y_prob = best_model.predict_proba(X_val)[:, 1]\n",
    "\n",
    "roc_auc = roc_auc_score(y_val, y_pred_prob)\n",
    "best_roc = roc_auc_score(y_val, best_y_prob)\n",
    "print(roc_auc)\n",
    "print(best_roc)"
   ]
  },
  {
   "cell_type": "markdown",
   "metadata": {},
   "source": [
    "##### So using most features increase the ROC AUC score by a bit"
   ]
  },
  {
   "cell_type": "markdown",
   "metadata": {},
   "source": [
    "##### Curious, so what if I didnt do any data cleaning to fill up the na data with mean, will the score be similar?"
   ]
  },
  {
   "cell_type": "code",
   "execution_count": 197,
   "metadata": {},
   "outputs": [
    {
     "name": "stdout",
     "output_type": "stream",
     "text": [
      "Accuracy: 0.9351351351351351\n",
      "Classification Report:\n",
      "               precision    recall  f1-score   support\n",
      "\n",
      "           0       0.94      1.00      0.97       173\n",
      "           1       0.00      0.00      0.00        12\n",
      "\n",
      "    accuracy                           0.94       185\n",
      "   macro avg       0.47      0.50      0.48       185\n",
      "weighted avg       0.87      0.94      0.90       185\n",
      "\n",
      "ROC-AUC Score: 0.901252408477842\n"
     ]
    },
    {
     "name": "stderr",
     "output_type": "stream",
     "text": [
      "C:\\Users\\tp-limwj\\AppData\\Local\\Packages\\PythonSoftwareFoundation.Python.3.11_qbz5n2kfra8p0\\LocalCache\\local-packages\\Python311\\site-packages\\sklearn\\metrics\\_classification.py:1509: UndefinedMetricWarning: Precision is ill-defined and being set to 0.0 in labels with no predicted samples. Use `zero_division` parameter to control this behavior.\n",
      "  _warn_prf(average, modifier, f\"{metric.capitalize()} is\", len(result))\n",
      "C:\\Users\\tp-limwj\\AppData\\Local\\Packages\\PythonSoftwareFoundation.Python.3.11_qbz5n2kfra8p0\\LocalCache\\local-packages\\Python311\\site-packages\\sklearn\\metrics\\_classification.py:1509: UndefinedMetricWarning: Precision is ill-defined and being set to 0.0 in labels with no predicted samples. Use `zero_division` parameter to control this behavior.\n",
      "  _warn_prf(average, modifier, f\"{metric.capitalize()} is\", len(result))\n",
      "C:\\Users\\tp-limwj\\AppData\\Local\\Packages\\PythonSoftwareFoundation.Python.3.11_qbz5n2kfra8p0\\LocalCache\\local-packages\\Python311\\site-packages\\sklearn\\metrics\\_classification.py:1509: UndefinedMetricWarning: Precision is ill-defined and being set to 0.0 in labels with no predicted samples. Use `zero_division` parameter to control this behavior.\n",
      "  _warn_prf(average, modifier, f\"{metric.capitalize()} is\", len(result))\n"
     ]
    }
   ],
   "source": [
    "#use original data set\n",
    "\n",
    "new_dataset = pd.get_dummies(dataset, drop_first=True) #using one-hot encoding to convert categorical\n",
    "\n",
    "X = new_dataset.drop(['dementia_all', 'ID', 'dementia'], axis=1) #all features\n",
    "y = new_dataset['dementia_all'] #target\n",
    "\n",
    "X_train, X_test_val, y_train, y_test_val = train_test_split(X, y, test_size=0.2, random_state=123, stratify = y) #split into 118\n",
    "X_test, X_val, y_test, y_val = train_test_split(X_test_val, y_test_val, test_size = 0.5, random_state= 123, stratify = y_test_val) #50% of 20% is 10%\n",
    "\n",
    "model.fit(X_train, y_train)\n",
    "y_pred = model.predict(X_val)\n",
    "y_pred_proba = model.predict_proba(X_val)[:, 1]\n",
    "\n",
    "# Evaluate the model\n",
    "accuracy = accuracy_score(y_val, y_pred)\n",
    "print(f\"Accuracy: {accuracy}\")\n",
    "print(\"Classification Report:\\n\", classification_report(y_val, y_pred)) #recall is ratio of correctly predicted positives to all observations\n",
    "print(\"ROC-AUC Score:\", roc_auc_score(y_val, y_pred_proba)) #trade off between true positive and false positive\n",
    "#i used the actual y value which is 0 or 1 instead of a probability thats being predicted, so now this using proba, its more accurate"
   ]
  },
  {
   "cell_type": "markdown",
   "metadata": {},
   "source": [
    "#### Therefore, using dataset without imputer is better than most freq but worst than median and mean"
   ]
  },
  {
   "cell_type": "code",
   "execution_count": 198,
   "metadata": {},
   "outputs": [
    {
     "name": "stdout",
     "output_type": "stream",
     "text": [
      "Accuracy: 0.9351351351351351\n",
      "Classification Report:\n",
      "               precision    recall  f1-score   support\n",
      "\n",
      "           0       0.94      1.00      0.97       173\n",
      "           1       0.00      0.00      0.00        12\n",
      "\n",
      "    accuracy                           0.94       185\n",
      "   macro avg       0.47      0.50      0.48       185\n",
      "weighted avg       0.87      0.94      0.90       185\n",
      "\n",
      "ROC-AUC Score: 0.9022157996146436\n",
      "[[173   0]\n",
      " [ 12   0]]\n"
     ]
    },
    {
     "name": "stderr",
     "output_type": "stream",
     "text": [
      "C:\\Users\\tp-limwj\\AppData\\Local\\Packages\\PythonSoftwareFoundation.Python.3.11_qbz5n2kfra8p0\\LocalCache\\local-packages\\Python311\\site-packages\\xgboost\\core.py:160: UserWarning: [17:24:58] WARNING: C:\\buildkite-agent\\builds\\buildkite-windows-cpu-autoscaling-group-i-0b3782d1791676daf-1\\xgboost\\xgboost-ci-windows\\src\\learner.cc:742: \n",
      "Parameters: { \"n_estimators\" } are not used.\n",
      "\n",
      "  warnings.warn(smsg, UserWarning)\n",
      "C:\\Users\\tp-limwj\\AppData\\Local\\Packages\\PythonSoftwareFoundation.Python.3.11_qbz5n2kfra8p0\\LocalCache\\local-packages\\Python311\\site-packages\\sklearn\\metrics\\_classification.py:1509: UndefinedMetricWarning: Precision is ill-defined and being set to 0.0 in labels with no predicted samples. Use `zero_division` parameter to control this behavior.\n",
      "  _warn_prf(average, modifier, f\"{metric.capitalize()} is\", len(result))\n",
      "C:\\Users\\tp-limwj\\AppData\\Local\\Packages\\PythonSoftwareFoundation.Python.3.11_qbz5n2kfra8p0\\LocalCache\\local-packages\\Python311\\site-packages\\sklearn\\metrics\\_classification.py:1509: UndefinedMetricWarning: Precision is ill-defined and being set to 0.0 in labels with no predicted samples. Use `zero_division` parameter to control this behavior.\n",
      "  _warn_prf(average, modifier, f\"{metric.capitalize()} is\", len(result))\n",
      "C:\\Users\\tp-limwj\\AppData\\Local\\Packages\\PythonSoftwareFoundation.Python.3.11_qbz5n2kfra8p0\\LocalCache\\local-packages\\Python311\\site-packages\\sklearn\\metrics\\_classification.py:1509: UndefinedMetricWarning: Precision is ill-defined and being set to 0.0 in labels with no predicted samples. Use `zero_division` parameter to control this behavior.\n",
      "  _warn_prf(average, modifier, f\"{metric.capitalize()} is\", len(result))\n"
     ]
    }
   ],
   "source": [
    "#use original data set\n",
    "#new_dataset = pd.get_dummies(dataset, drop_first=True) #using one-hot encoding to convert categorical\n",
    "# Convert object columns to category type\n",
    "for col in dataset.select_dtypes(include=['object']).columns:\n",
    "    dataset[col] = dataset[col].astype('category')\n",
    "\n",
    "X = dataset.drop(['dementia_all', 'ID', 'dementia'], axis=1) #all features\n",
    "y = dataset['dementia_all'] #target\n",
    "\n",
    "X_train, X_test_val, y_train, y_test_val = train_test_split(X, y, test_size=0.2, random_state=123, stratify = y) #split into 118\n",
    "X_test, X_val, y_test, y_val = train_test_split(X_test_val, y_test_val, test_size = 0.5, random_state= 123, stratify = y_test_val) #50% of 20% is 10%\n",
    "\n",
    "dtrain = xgb.DMatrix(X_train, label=y_train, enable_categorical=True)\n",
    "dtest = xgb.DMatrix(X_val, enable_categorical=True)\n",
    "\n",
    "params = {\n",
    "    'objective': 'binary:logistic',\n",
    "    'n_estimators': 100,\n",
    "    'max_depth': 5,\n",
    "    'colsample_bytree': 0.8,\n",
    "    'learning_rate': 0.05,\n",
    "    'random_state': 42,\n",
    "    'eval_metric': 'auc'\n",
    "}\n",
    "\n",
    "model = xgb.train(params, dtrain, num_boost_round=100)\n",
    "\n",
    "y_pred_proba = model.predict(dtest)\n",
    "y_pred = (y_pred_proba > 0.5).astype(int)\n",
    "\n",
    "# Evaluate the model\n",
    "accuracy = accuracy_score(y_val, y_pred)\n",
    "print(f\"Accuracy: {accuracy}\")\n",
    "print(\"Classification Report:\\n\", classification_report(y_val, y_pred))\n",
    "print(\"ROC-AUC Score:\", roc_auc_score(y_val, y_pred_proba))\n",
    "#conf matrix\n",
    "conf_matrix_val = confusion_matrix(y_val, y_pred)\n",
    "print(conf_matrix_val)"
   ]
  },
  {
   "cell_type": "markdown",
   "metadata": {},
   "source": [
    "##### So why is everything predicted as 0, theres 12 false negatives in the dataset, how do i get some '1's using the same model\n",
    "Explanations: Change the threshhold for y_pred to be over an optimal value that equates to 1."
   ]
  },
  {
   "cell_type": "code",
   "execution_count": 199,
   "metadata": {},
   "outputs": [
    {
     "name": "stdout",
     "output_type": "stream",
     "text": [
      "F1 Score: 0.0\n"
     ]
    }
   ],
   "source": [
    "from sklearn.metrics import f1_score\n",
    "f1 = f1_score(y_val, y_pred)\n",
    "\n",
    "print(\"F1 Score:\", f1)"
   ]
  },
  {
   "cell_type": "markdown",
   "metadata": {},
   "source": [
    "##### F1 score is 0 because f1 score = (2 x precision x recall) / (precision + recall), precision = TP/ (TP+FP) = 0 since model is predicting 0 only"
   ]
  },
  {
   "cell_type": "code",
   "execution_count": 200,
   "metadata": {},
   "outputs": [
    {
     "name": "stdout",
     "output_type": "stream",
     "text": [
      "Best F1 Score: 0.5454545454545454 at threshold: 0.1802\n"
     ]
    }
   ],
   "source": [
    "thresholds = np.arange(0, 1.00001, 0.0001)  #Generate a range of thresholds\n",
    "best_threshold = None\n",
    "best_f1_score = f1\n",
    "\n",
    "for threshold in thresholds:\n",
    "    y_pred = (y_pred_proba > threshold).astype(int)\n",
    "    f1 = f1_score(y_val, y_pred)\n",
    "    if f1 > best_f1_score: #if current score is better than highest\n",
    "        best_f1_score = f1\n",
    "        best_threshold = threshold\n",
    "\n",
    "print(f\"Best F1 Score: {best_f1_score} at threshold: {best_threshold}\")"
   ]
  },
  {
   "cell_type": "code",
   "execution_count": 201,
   "metadata": {},
   "outputs": [
    {
     "name": "stdout",
     "output_type": "stream",
     "text": [
      "Accuracy: 0.918918918918919\n",
      "Classification Report:\n",
      "               precision    recall  f1-score   support\n",
      "\n",
      "           0       0.98      0.93      0.96       173\n",
      "           1       0.43      0.75      0.55        12\n",
      "\n",
      "    accuracy                           0.92       185\n",
      "   macro avg       0.71      0.84      0.75       185\n",
      "weighted avg       0.95      0.92      0.93       185\n",
      "\n",
      "[[161  12]\n",
      " [  3   9]]\n"
     ]
    }
   ],
   "source": [
    "y_pred = (y_pred_proba > best_threshold).astype(int)\n",
    "\n",
    "accuracy = accuracy_score(y_val, y_pred)\n",
    "print(f\"Accuracy: {accuracy}\")\n",
    "print(\"Classification Report:\\n\", classification_report(y_val, y_pred))\n",
    "\n",
    "#conf matrix\n",
    "conf_matrix_val = confusion_matrix(y_val, y_pred)\n",
    "print(conf_matrix_val)"
   ]
  },
  {
   "cell_type": "code",
   "execution_count": 204,
   "metadata": {},
   "outputs": [
    {
     "name": "stdout",
     "output_type": "stream",
     "text": [
      "Best Threshold=0.184389, F-Score=0.545\n"
     ]
    }
   ],
   "source": [
    "from sklearn.metrics import precision_recall_curve\n",
    "\n",
    "precision, recall, thresholds = precision_recall_curve(y_val, y_pred_proba)\n",
    "fscore = (2 * precision * recall) / (precision + recall)\n",
    "index = np.argmax(fscore)\n",
    "print('Best Threshold=%f, F-Score=%.3f' % (thresholds[index], fscore[index]))"
   ]
  },
  {
   "cell_type": "code",
   "execution_count": 205,
   "metadata": {},
   "outputs": [
    {
     "name": "stdout",
     "output_type": "stream",
     "text": [
      "Accuracy: 0.9135135135135135\n",
      "Classification Report:\n",
      "               precision    recall  f1-score   support\n",
      "\n",
      "           0       0.98      0.93      0.95       173\n",
      "           1       0.40      0.67      0.50        12\n",
      "\n",
      "    accuracy                           0.91       185\n",
      "   macro avg       0.69      0.80      0.73       185\n",
      "weighted avg       0.94      0.91      0.92       185\n",
      "\n",
      "[[161  12]\n",
      " [  4   8]]\n"
     ]
    }
   ],
   "source": [
    "y_pred = (y_pred_proba > thresholds[index]).astype(int)\n",
    "\n",
    "accuracy = accuracy_score(y_val, y_pred)\n",
    "print(f\"Accuracy: {accuracy}\")\n",
    "print(\"Classification Report:\\n\", classification_report(y_val, y_pred))\n",
    "\n",
    "#conf matrix\n",
    "conf_matrix_val = confusion_matrix(y_val, y_pred)\n",
    "print(conf_matrix_val)"
   ]
  },
  {
   "cell_type": "markdown",
   "metadata": {},
   "source": [
    "##### Trying other methods"
   ]
  },
  {
   "cell_type": "markdown",
   "metadata": {},
   "source": [
    "##### The Geometric Mean or G-Mean is a metric for imbalanced classification that, if optimized, will seek a balance between the sensitivity and the specificity.\n",
    "\n",
    "Sensitivity = True Positive Rate\n",
    "\n",
    "Specificity = 1 – False Positive Rate\n"
   ]
  },
  {
   "cell_type": "code",
   "execution_count": 202,
   "metadata": {},
   "outputs": [
    {
     "name": "stdout",
     "output_type": "stream",
     "text": [
      "Best Threshold=0.153097, G-Mean=0.872\n"
     ]
    }
   ],
   "source": [
    "from sklearn.metrics import roc_curve\n",
    "\n",
    "fpr, tpr, thresholds = roc_curve(y_val, y_pred_proba)\n",
    "gmeans = np.sqrt(tpr * (1-fpr))\n",
    "ix = np.argmax(gmeans)\n",
    "print('Best Threshold=%f, G-Mean=%.3f' % (thresholds[ix], gmeans[ix]))"
   ]
  },
  {
   "cell_type": "code",
   "execution_count": 203,
   "metadata": {},
   "outputs": [
    {
     "name": "stdout",
     "output_type": "stream",
     "text": [
      "Accuracy: 0.9027027027027027\n",
      "Classification Report:\n",
      "               precision    recall  f1-score   support\n",
      "\n",
      "           0       0.98      0.91      0.95       173\n",
      "           1       0.38      0.75      0.50        12\n",
      "\n",
      "    accuracy                           0.90       185\n",
      "   macro avg       0.68      0.83      0.72       185\n",
      "weighted avg       0.94      0.90      0.92       185\n",
      "\n",
      "[[158  15]\n",
      " [  3   9]]\n"
     ]
    }
   ],
   "source": [
    "y_pred = (y_pred_proba > thresholds[ix]).astype(int)\n",
    "\n",
    "accuracy = accuracy_score(y_val, y_pred)\n",
    "print(f\"Accuracy: {accuracy}\")\n",
    "print(\"Classification Report:\\n\", classification_report(y_val, y_pred))\n",
    "\n",
    "#conf matrix\n",
    "conf_matrix_val = confusion_matrix(y_val, y_pred)\n",
    "print(conf_matrix_val)"
   ]
  },
  {
   "cell_type": "markdown",
   "metadata": {},
   "source": [
    "##### Youden J Statistic"
   ]
  },
  {
   "cell_type": "code",
   "execution_count": 210,
   "metadata": {},
   "outputs": [
    {
     "name": "stdout",
     "output_type": "stream",
     "text": [
      "Optimal Threshold: 0.15309703\n"
     ]
    }
   ],
   "source": [
    "#youden j statistic\n",
    "fpr, tpr, thresholds = roc_curve(y_val, y_pred_proba)\n",
    "j_stat = tpr - fpr\n",
    "\n",
    "optimal_threshold = thresholds[np.argmax(j_stat)]\n",
    "print(\"Optimal Threshold:\", optimal_threshold)"
   ]
  },
  {
   "cell_type": "code",
   "execution_count": 212,
   "metadata": {},
   "outputs": [
    {
     "name": "stdout",
     "output_type": "stream",
     "text": [
      "Accuracy: 0.9027027027027027\n",
      "Classification Report:\n",
      "               precision    recall  f1-score   support\n",
      "\n",
      "           0       0.98      0.91      0.95       173\n",
      "           1       0.38      0.75      0.50        12\n",
      "\n",
      "    accuracy                           0.90       185\n",
      "   macro avg       0.68      0.83      0.72       185\n",
      "weighted avg       0.94      0.90      0.92       185\n",
      "\n",
      "[[158  15]\n",
      " [  3   9]]\n"
     ]
    }
   ],
   "source": [
    "y_pred = (y_pred_proba > optimal_threshold).astype(int)\n",
    "\n",
    "accuracy = accuracy_score(y_val, y_pred)\n",
    "print(f\"Accuracy: {accuracy}\")\n",
    "print(\"Classification Report:\\n\", classification_report(y_val, y_pred))\n",
    "\n",
    "#conf matrix\n",
    "conf_matrix_val = confusion_matrix(y_val, y_pred)\n",
    "print(conf_matrix_val)"
   ]
  }
 ],
 "metadata": {
  "kernelspec": {
   "display_name": "Python 3",
   "language": "python",
   "name": "python3"
  },
  "language_info": {
   "codemirror_mode": {
    "name": "ipython",
    "version": 3
   },
   "file_extension": ".py",
   "mimetype": "text/x-python",
   "name": "python",
   "nbconvert_exporter": "python",
   "pygments_lexer": "ipython3",
   "version": "3.11.9"
  }
 },
 "nbformat": 4,
 "nbformat_minor": 2
}
